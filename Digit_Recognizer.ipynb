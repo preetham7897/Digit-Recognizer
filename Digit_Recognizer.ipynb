{
  "nbformat": 4,
  "nbformat_minor": 0,
  "metadata": {
    "colab": {
      "name": "Digit Recognizer.ipynb",
      "provenance": []
    },
    "kernelspec": {
      "name": "python3",
      "display_name": "Python 3"
    },
    "accelerator": "TPU"
  },
  "cells": [
    {
      "cell_type": "code",
      "metadata": {
        "id": "msPvChsn_Au0",
        "colab_type": "code",
        "colab": {}
      },
      "source": [
        "import pandas as pd\n",
        "from google.colab import drive\n",
        "import numpy as np\n",
        "import matplotlib.pyplot as plt\n",
        "from keras.models import Sequential\n",
        "from keras.layers import Conv2D, Dense, Flatten, MaxPooling2D\n",
        "import keras.utils\n",
        "from sklearn.metrics import accuracy_score"
      ],
      "execution_count": 0,
      "outputs": []
    },
    {
      "cell_type": "code",
      "metadata": {
        "id": "p_7J9gaV_qPv",
        "colab_type": "code",
        "colab": {}
      },
      "source": [
        "drive.mount('/content/drive')"
      ],
      "execution_count": 0,
      "outputs": []
    },
    {
      "cell_type": "code",
      "metadata": {
        "id": "wqAVTCQT_sMN",
        "colab_type": "code",
        "colab": {}
      },
      "source": [
        "loc = '/content/drive/My Drive/Kaggle - Digit Recognizer/Data/'"
      ],
      "execution_count": 0,
      "outputs": []
    },
    {
      "cell_type": "code",
      "metadata": {
        "id": "WYMLj_zb_6Q_",
        "colab_type": "code",
        "colab": {}
      },
      "source": [
        "train = pd.read_csv(loc+'train.csv')\n",
        "test = pd.read_csv(loc+'test.csv')"
      ],
      "execution_count": 0,
      "outputs": []
    },
    {
      "cell_type": "code",
      "metadata": {
        "id": "HIRvA8qHAkA5",
        "colab_type": "code",
        "colab": {}
      },
      "source": [
        "d_tr = {}\n",
        "img = []\n",
        "lab = []\n",
        "for i in range(len(train)):\n",
        "  lab.append(train['label'][i])\n",
        "  l = []\n",
        "  for j in range(784):\n",
        "    l.append(train['pixel'+str(j)][i])\n",
        "  m = []\n",
        "  for j in range(0, 784, 28):\n",
        "    m.append(l[j:j+28])\n",
        "  m_np = np.array(m)\n",
        "  img.append(m_np)\n",
        "d_tr['images'] = img\n",
        "d_tr['label'] = lab"
      ],
      "execution_count": 0,
      "outputs": []
    },
    {
      "cell_type": "code",
      "metadata": {
        "id": "wiCNUtwUBofc",
        "colab_type": "code",
        "colab": {}
      },
      "source": [
        "d_ts = {}\n",
        "img = []\n",
        "for i in range(len(test)):\n",
        "  l = []\n",
        "  for j in range(784):\n",
        "    l.append(test['pixel'+str(j)][i])\n",
        "  m = []\n",
        "  for j in range(0, 784, 28):\n",
        "    m.append(l[j:j+28])\n",
        "  m_np = np.array(m)\n",
        "  img.append(m_np)\n",
        "d_ts['images'] = img"
      ],
      "execution_count": 0,
      "outputs": []
    },
    {
      "cell_type": "code",
      "metadata": {
        "id": "oEGbqEROdG-L",
        "colab_type": "code",
        "colab": {}
      },
      "source": [
        "tr = {}\n",
        "tr['images'] = d_tr['images'][0:int(0.8*len(train))]\n",
        "tr['labels'] = d_tr['label'][0:int(0.8*len(train))]\n",
        "dev = {}\n",
        "dev['images'] = d_tr['images'][int(0.8*len(train)):int(0.9*len(train))]\n",
        "dev['labels'] = d_tr['label'][int(0.8*len(train)):int(0.9*len(train))]\n",
        "ts = {}\n",
        "ts['images'] = d_tr['images'][int(0.9*len(train)):]\n",
        "ts['labels'] = d_tr['label'][int(0.9*len(train)):]"
      ],
      "execution_count": 0,
      "outputs": []
    },
    {
      "cell_type": "code",
      "metadata": {
        "id": "bPUR1PrneKy2",
        "colab_type": "code",
        "colab": {}
      },
      "source": [
        "model = Sequential()\n",
        "model.add(Conv2D(6, kernel_size=5, padding='valid', strides=1, activation='relu', input_shape=(28,28,1)))\n",
        "model.add(MaxPooling2D(pool_size=(2,2), strides=2, padding='valid'))\n",
        "model.add(Conv2D(6, kernel_size=5, padding='valid', strides=1, activation='relu'))\n",
        "model.add(MaxPooling2D(pool_size=(2,2), strides=2, padding='valid'))\n",
        "model.add(Flatten())\n",
        "model.add(Dense(120, activation='relu'))\n",
        "model.add(Dense(84, activation='relu'))\n",
        "model.add(Dense(10, activation='softmax'))\n",
        "model.compile(optimizer='adam', loss='categorical_crossentropy', metrics=['accuracy'])"
      ],
      "execution_count": 0,
      "outputs": []
    },
    {
      "cell_type": "code",
      "metadata": {
        "id": "7kCnB63yoqan",
        "colab_type": "code",
        "colab": {}
      },
      "source": [
        "tr_x = np.array(tr['images'])\n",
        "tr_x = tr_x.reshape(len(tr['images']), 28, 28, 1)\n",
        "dev_x = np.array(dev['images'])\n",
        "dev_x = dev_x.reshape(len(dev['images']), 28, 28, 1)\n",
        "ts_x = np.array(ts['images'])\n",
        "ts_x = ts_x.reshape(len(ts['images']), 28, 28, 1)"
      ],
      "execution_count": 0,
      "outputs": []
    },
    {
      "cell_type": "code",
      "metadata": {
        "id": "qRSG0-akpnVm",
        "colab_type": "code",
        "colab": {}
      },
      "source": [
        "tr_y = keras.utils.to_categorical(tr['labels'])\n",
        "dev_y = keras.utils.to_categorical(dev['labels'])\n",
        "ts_y = keras.utils.to_categorical(ts['labels'])"
      ],
      "execution_count": 0,
      "outputs": []
    },
    {
      "cell_type": "code",
      "metadata": {
        "id": "4gkHxvWDhk71",
        "colab_type": "code",
        "colab": {}
      },
      "source": [
        "model.fit(tr_x, tr_y, validation_data=(dev_x, dev_y), epochs=20)"
      ],
      "execution_count": 0,
      "outputs": []
    },
    {
      "cell_type": "code",
      "metadata": {
        "id": "tURhZ7UqkTzz",
        "colab_type": "code",
        "colab": {}
      },
      "source": [
        "ts_p = model.predict(ts_x)\n",
        "ts_p_m = [np.argmax(ts_p[i]) for i in range(len(ts_p))]\n",
        "print('Accuracy: ', accuracy_score(ts['labels'], ts_p_m))"
      ],
      "execution_count": 0,
      "outputs": []
    },
    {
      "cell_type": "code",
      "metadata": {
        "id": "6GjUEMejkZpI",
        "colab_type": "code",
        "colab": {}
      },
      "source": [
        "test_x = np.array(d_ts['images'])\n",
        "test_x = test_x.reshape(28000, 28, 28, 1)"
      ],
      "execution_count": 0,
      "outputs": []
    },
    {
      "cell_type": "code",
      "metadata": {
        "id": "1ErUj9aOru6y",
        "colab_type": "code",
        "colab": {}
      },
      "source": [
        "test_p = model.predict(test_x)\n",
        "d = {}\n",
        "img_id = []\n",
        "label = []\n",
        "for i in range(len(test)):\n",
        "  img_id.append(i+1)\n",
        "  label.append(np.argmax(test_p[i]))\n",
        "d['ImageId'] = img_id\n",
        "d['Label'] = label\n",
        "df = pd.DataFrame(d)\n",
        "df.to_csv(loc+'result.csv', index=False)"
      ],
      "execution_count": 0,
      "outputs": []
    },
    {
      "cell_type": "code",
      "metadata": {
        "id": "pdoLFDKftj2m",
        "colab_type": "code",
        "colab": {}
      },
      "source": [
        "df"
      ],
      "execution_count": 0,
      "outputs": []
    }
  ]
}